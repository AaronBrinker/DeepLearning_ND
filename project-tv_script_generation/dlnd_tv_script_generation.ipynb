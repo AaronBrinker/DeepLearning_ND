{
 "cells": [
  {
   "cell_type": "markdown",
   "metadata": {},
   "source": [
    "# TV Script Generation\n",
    "\n",
    "## Data"
   ]
  },
  {
   "cell_type": "code",
   "execution_count": 1,
   "metadata": {},
   "outputs": [],
   "source": [
    "import helper\n",
    "import numpy as np\n",
    "from collections import Counter\n",
    "import problem_unittests as tests\n",
    "import torch\n",
    "import torch.nn as nn"
   ]
  },
  {
   "cell_type": "code",
   "execution_count": 2,
   "metadata": {},
   "outputs": [],
   "source": [
    "data_dir = './data/Seinfeld_Scripts.txt'\n",
    "text = helper.load_data(data_dir)"
   ]
  },
  {
   "cell_type": "code",
   "execution_count": 6,
   "metadata": {},
   "outputs": [
    {
     "name": "stdout",
     "output_type": "stream",
     "text": [
      "Dataset Stats\n",
      "Roughly the number of unique words: 46367\n",
      "Number of lines: 109233\n",
      "Average number of words in each line: 5.544240293684143\n",
      "\n",
      "The lines 0 to 10:\n",
      "jerry: do you know what this is all about? do you know, why were here? to be out, this is out...and out is one of the single most enjoyable experiences of life. people...did you ever hear people talking about we should go out? this is what theyre talking about...this whole thing, were all out now, no one is home. not one person here is home, were all out! there are people trying to find us, they dont know where we are. (on an imaginary phone) did you ring?, i cant find him. where did he go? he didnt tell me where he was going. he must have gone out. you wanna go out you get ready, you pick out the clothes, right? you take the shower, you get all ready, get the cash, get your friends, the car, the spot, the reservation...then youre standing around, what do you do? you go we gotta be getting back. once youre out, you wanna get back! you wanna go to sleep, you wanna get up, you wanna go out again tomorrow, right? where ever you are in life, its my feeling, youve gotta go. \n",
      "\n",
      "jerry: (pointing at georges shirt) see, to me, that button is in the worst possible spot. the second button literally makes or breaks the shirt, look at it. its too high! its in no-mans-land. you look like you live with your mother. \n",
      "\n",
      "george: are you through? \n",
      "\n",
      "jerry: you do of course try on, when you buy? \n",
      "\n",
      "george: yes, it was purple, i liked it, i dont actually recall considering the buttons. \n",
      "\n"
     ]
    }
   ],
   "source": [
    "import numpy as np\n",
    "\n",
    "print('Dataset Stats')\n",
    "print('Roughly the number of unique words: {}'.format(len({word: None for word in text.split()})))\n",
    "\n",
    "view_line_range = (0, 10)\n",
    "lines = text.split('\\n')\n",
    "print('Number of lines: {}'.format(len(lines)))\n",
    "word_count_line = [len(line.split()) for line in lines]\n",
    "print('Average number of words in each line: {}'.format(np.average(word_count_line)))\n",
    "\n",
    "print()\n",
    "print('The lines {} to {}:'.format(*view_line_range))\n",
    "print('\\n'.join(text.split('\\n')[view_line_range[0]:view_line_range[1]]))"
   ]
  },
  {
   "cell_type": "markdown",
   "metadata": {},
   "source": [
    "## Pre-processing\n",
    "- Lookup Table\n",
    "- Tokenize Punctuation\n",
    "\n",
    "### Lookup Table\n",
    "Create two dictionaries:\n",
    "- Dictionary to go from the words to an id ->`vocab_to_int`\n",
    "- Dictionary to go from the id to word ->`int_to_vocab`\n"
   ]
  },
  {
   "cell_type": "code",
   "execution_count": 7,
   "metadata": {},
   "outputs": [
    {
     "name": "stdout",
     "output_type": "stream",
     "text": [
      "Tests Passed\n"
     ]
    }
   ],
   "source": [
    "def create_lookup_tables(text):\n",
    "    \"\"\"\n",
    "    Create lookup tables for vocabulary\n",
    "    :param text: The text of tv scripts split into words\n",
    "    :return: A tuple of dicts (vocab_to_int, int_to_vocab)\n",
    "    \"\"\"\n",
    "\n",
    "    #Count frequency of words\n",
    "    c = Counter(text)\n",
    "    sorted_vocab = sorted(c, key=c.get, reverse=True)\n",
    "\n",
    "    #create dictonaries that map integer values to words and the inverse\n",
    "    vocab_to_int = {word: ii for ii, word in enumerate(sorted_vocab)}\n",
    "    int_to_vocab = {ii: word for word, ii in vocab_to_int.items()}\n",
    "    \n",
    "    return (vocab_to_int,int_to_vocab)\n",
    "tests.test_create_lookup_tables(create_lookup_tables)"
   ]
  },
  {
   "cell_type": "code",
   "execution_count": 8,
   "metadata": {},
   "outputs": [
    {
     "name": "stdout",
     "output_type": "stream",
     "text": [
      "{'t': 0, ' ': 1, 's': 2, 'e': 3, 'i': 4, 'o': 5, 'h': 6, 'm': 7, 'x': 8, 'n': 9, 'g': 10}\n",
      "{0: 't', 1: ' ', 2: 's', 3: 'e', 4: 'i', 5: 'o', 6: 'h', 7: 'm', 8: 'x', 9: 'n', 10: 'g'}\n"
     ]
    }
   ],
   "source": [
    "sample_text = \"this is some text to test something\"\n",
    "vocab_to_int, int_to_vocab = create_lookup_tables(sample_text)\n",
    "print(vocab_to_int)\n",
    "print(int_to_vocab)"
   ]
  },
  {
   "cell_type": "markdown",
   "metadata": {},
   "source": [
    "### Tokenize Punctuation"
   ]
  },
  {
   "cell_type": "code",
   "execution_count": 9,
   "metadata": {},
   "outputs": [
    {
     "name": "stdout",
     "output_type": "stream",
     "text": [
      "Tests Passed\n"
     ]
    }
   ],
   "source": [
    "def token_lookup():\n",
    "    \n",
    "    token_dict ={\n",
    "        '.': '||Period||',\n",
    "        ',': '||Comma||',\n",
    "        '\"': '||Quotation_Mark||',\n",
    "        ';': '||Semicolon||',\n",
    "        '!': '||Exclamation_mark||',\n",
    "        '?': '||Question_mark||',\n",
    "        '(': '||Left_Parentheses||',\n",
    "        ')': '||Right_Parentheses||',\n",
    "        '-': '||Dash||',\n",
    "        \"\\n\": '||Return||'\n",
    "    }\n",
    "    \n",
    "    return token_dict\n",
    "tests.test_tokenize(token_lookup)"
   ]
  },
  {
   "cell_type": "code",
   "execution_count": 10,
   "metadata": {},
   "outputs": [],
   "source": [
    "helper.preprocess_and_save_data(data_dir, token_lookup, create_lookup_tables)"
   ]
  },
  {
   "cell_type": "markdown",
   "metadata": {},
   "source": [
    "# Check Point"
   ]
  },
  {
   "cell_type": "code",
   "execution_count": 2,
   "metadata": {},
   "outputs": [],
   "source": [
    "int_text, vocab_to_int, int_to_vocab, token_dict = helper.load_preprocess()"
   ]
  },
  {
   "cell_type": "markdown",
   "metadata": {},
   "source": [
    "### Check Access to GPU "
   ]
  },
  {
   "cell_type": "code",
   "execution_count": 3,
   "metadata": {},
   "outputs": [
    {
     "name": "stdout",
     "output_type": "stream",
     "text": [
      "No GPU found. Please use a Gpu to train your neural network\n"
     ]
    }
   ],
   "source": [
    "train_on_gpu = torch.cuda.is_available()\n",
    "if not train_on_gpu:\n",
    "    print('No GPU found. Please use a Gpu to train your neural network')"
   ]
  },
  {
   "cell_type": "markdown",
   "metadata": {},
   "source": [
    "### Input"
   ]
  },
  {
   "cell_type": "code",
   "execution_count": 13,
   "metadata": {},
   "outputs": [],
   "source": [
    "from torch.utils.data import TensorDataset, DataLoader"
   ]
  },
  {
   "cell_type": "code",
   "execution_count": 14,
   "metadata": {},
   "outputs": [],
   "source": [
    "#batch the data\n",
    "def batch_data(words, sequence_length, batch_size):\n",
    "    \"\"\"\n",
    "    Batch the neural network data using DataLoader\n",
    "    :param words: The word ids of the TV scripts\n",
    "    :param sequence_length: The sequence length of each batch\n",
    "    :param batch_size: The size of each batch; the number of sequences in a batch\n",
    "    :return: DataLoader with batched data\n",
    "    \"\"\"\n",
    "    #just full batches\n",
    "    n_batches = len(words)//batch_size\n",
    "    words = words[:n_batches*batch_size]\n",
    "    \n",
    "    #batch the data\n",
    "    features = np.array([words[i:(i+sequence_length)] for i in range(len(words)-sequence_length)])\n",
    "    targets = np.array([words[i+sequence_length] for i in range(len(words)-sequence_length)])\n",
    "    \n",
    "    #transform to tensor\n",
    "    feature_tensor = torch.from_numpy(features)\n",
    "    target_tensor = torch.from_numpy(targets)\n",
    "    \n",
    "    #define DataLoader\n",
    "    data = TensorDataset(feature_tensor, target_tensor)\n",
    "    data_loader = torch.utils.data.DataLoader(data, batch_size=batch_size, shuffle=False)\n",
    "    \n",
    "    return data_loader"
   ]
  },
  {
   "cell_type": "code",
   "execution_count": 15,
   "metadata": {},
   "outputs": [
    {
     "name": "stdout",
     "output_type": "stream",
     "text": [
      "torch.Size([10, 5])\n",
      "tensor([[  0,   1,   2,   3,   4],\n",
      "        [  1,   2,   3,   4,   5],\n",
      "        [  2,   3,   4,   5,   6],\n",
      "        [  3,   4,   5,   6,   7],\n",
      "        [  4,   5,   6,   7,   8],\n",
      "        [  5,   6,   7,   8,   9],\n",
      "        [  6,   7,   8,   9,  10],\n",
      "        [  7,   8,   9,  10,  11],\n",
      "        [  8,   9,  10,  11,  12],\n",
      "        [  9,  10,  11,  12,  13]])\n",
      "\n",
      "torch.Size([10])\n",
      "tensor([  5,   6,   7,   8,   9,  10,  11,  12,  13,  14])\n"
     ]
    }
   ],
   "source": [
    "# test dataloader\n",
    "\n",
    "test_text = range(50)\n",
    "t_loader = batch_data(test_text, sequence_length=5, batch_size=10)\n",
    "\n",
    "data_iter = iter(t_loader)\n",
    "sample_x, sample_y = data_iter.next()\n",
    "\n",
    "print(sample_x.shape)\n",
    "print(sample_x)\n",
    "print()\n",
    "print(sample_y.shape)\n",
    "print(sample_y)"
   ]
  },
  {
   "cell_type": "code",
   "execution_count": 5,
   "metadata": {},
   "outputs": [
    {
     "name": "stdout",
     "output_type": "stream",
     "text": [
      "Tests Passed\n"
     ]
    }
   ],
   "source": [
    "## Build the Neural Network\n",
    "\n",
    "class RNN(nn.Module):\n",
    "    \n",
    "    def __init__(self, vocab_size, output_size, embedding_dim, hidden_dim, n_layers, dropout=0.3):\n",
    "    \n",
    "        super(RNN, self).__init__()\n",
    "        \n",
    "        self.vocab_size = vocab_size\n",
    "        self.output_size = output_size\n",
    "        self.embedding_dim = embedding_dim\n",
    "        self.hidden_dim = hidden_dim\n",
    "        self.n_layers = n_layers\n",
    "        \n",
    "        self.Embedding = nn.Embedding(vocab_size, embedding_dim)\n",
    "        \n",
    "        self.LSTM = nn.LSTM(embedding_dim, hidden_dim, n_layers,\n",
    "                           dropout=dropout, batch_first=True)\n",
    "        \n",
    "        self.fc = nn.Linear(hidden_dim, output_size)\n",
    "        \n",
    "    def forward(self, nn_input, hidden):\n",
    "        \n",
    "        batch_size = nn_input.size(0)\n",
    "        \n",
    "        embeds = self.Embedding(nn_input)\n",
    "        LSTM_out, hidden_out = self.LSTM(embeds, hidden)\n",
    "        \n",
    "        LSTM_out = LSTM_out.contiguous().view(-1, self.hidden_dim)\n",
    "        \n",
    "        out = self.fc(LSTM_out)\n",
    "        \n",
    "        # reshape into (batch_size, seq_length, output_size)\n",
    "        out = out.view(batch_size, -1, self.output_size)\n",
    "        # get last batch\n",
    "        out = out[:, -1]\n",
    "        \n",
    "        return out, hidden\n",
    "    \n",
    "    def init_hidden(self, batch_size):\n",
    "        '''\n",
    "        Initialize the hidden state of an LSTM/GRU\n",
    "        :param batch_size: The batch_size of the hidden state\n",
    "        :return: hidden state of dims (n_layers, batch_size, hidden_dim)\n",
    "        '''\n",
    "        weight = next(self.parameters()).data\n",
    "        \n",
    "        if(train_on_gpu):\n",
    "            hidden = (weight.new(self.n_layers, batch_size, self.hidden_dim).zero_().cuda(),\n",
    "                     weight.new(self.n_layers, batch_size, self.hidden_dim).zero_().cuda())\n",
    "        else:\n",
    "            hidden = (weight.new(self.n_layers, batch_size, self.hidden_dim).zero_(),\n",
    "                     weight.new(self.n_layers, batch_size, self.hidden_dim).zero_())\n",
    "            \n",
    "        \n",
    "        return hidden\n",
    "\n",
    "tests.test_rnn(RNN, train_on_gpu)"
   ]
  },
  {
   "cell_type": "markdown",
   "metadata": {},
   "source": [
    "## Define forward and backpropagation"
   ]
  },
  {
   "cell_type": "code",
   "execution_count": 19,
   "metadata": {},
   "outputs": [
    {
     "name": "stdout",
     "output_type": "stream",
     "text": [
      "Tests Passed\n"
     ]
    }
   ],
   "source": [
    "def forward_back_prop(rnn, optimizer, criterion, inp, target, hidden):\n",
    "    \"\"\"\n",
    "    Forward and backward propagation on the neural network\n",
    "    :param rnn: The PyTorch Module that holds the neural network\n",
    "    :param optimizer: The PyTorch optimizer for the neural network\n",
    "    :param criterion: The PyTorch loss function\n",
    "    :param inp: A batch of input to the neural network\n",
    "    :param target: The target output for the batch of input\n",
    "    :return: The loss and the latest hidden state Tensor\n",
    "    \"\"\"\n",
    "    \n",
    "    # TODO: Implement Function\n",
    "    \n",
    "    if(train_on_gpu):\n",
    "        rnn.cuda()\n",
    "    \n",
    "    h = tuple([each.data for each in hidden])\n",
    "    \n",
    "    rnn.zero_grad()\n",
    "    \n",
    "    if(train_on_gpu):\n",
    "        inp, target = inp.cuda(), target.cuda()\n",
    "    \n",
    "    output, h = rnn(inp, h)\n",
    "    \n",
    "    loss = criterion(output, target)\n",
    "    loss.backward()\n",
    "    \n",
    "    nn.utils.clip_grad_norm_(rnn.parameters(), 5)\n",
    "    \n",
    "    optimizer.step()\n",
    "    \n",
    "    return loss.item(), h\n",
    "\n",
    "\n",
    "tests.test_forward_back_prop(RNN, forward_back_prop, train_on_gpu)"
   ]
  },
  {
   "cell_type": "markdown",
   "metadata": {},
   "source": [
    "## Neural Network Training"
   ]
  },
  {
   "cell_type": "code",
   "execution_count": 20,
   "metadata": {},
   "outputs": [],
   "source": [
    "def train_rnn(rnn, batch_size, optimizer, criterion, n_epochs, show_every_n_batches=100):\n",
    "    batch_losses = []\n",
    "    \n",
    "    rnn.train()\n",
    "\n",
    "    print(\"Training for %d epoch(s)...\" % n_epochs)\n",
    "    for epoch_i in range(1, n_epochs + 1):\n",
    "        \n",
    "        # initialize hidden state\n",
    "        hidden = rnn.init_hidden(batch_size)\n",
    "        \n",
    "        for batch_i, (inputs, labels) in enumerate(train_loader, 1):\n",
    "            \n",
    "            # make sure you iterate over completely full batches, only\n",
    "            n_batches = len(train_loader.dataset)//batch_size\n",
    "            if(batch_i > n_batches):\n",
    "                break\n",
    "            \n",
    "            # forward, back prop\n",
    "            loss, hidden = forward_back_prop(rnn, optimizer, criterion, inputs, labels, hidden)          \n",
    "            # record loss\n",
    "            batch_losses.append(loss)\n",
    "\n",
    "            # printing loss stats\n",
    "            if batch_i % show_every_n_batches == 0:\n",
    "                print('Epoch: {:>4}/{:<4}  Loss: {}\\n'.format(\n",
    "                    epoch_i, n_epochs, np.average(batch_losses)))\n",
    "                batch_losses = []\n",
    "\n",
    "    # returns a trained rnn\n",
    "    return rnn"
   ]
  },
  {
   "cell_type": "code",
   "execution_count": 21,
   "metadata": {},
   "outputs": [],
   "source": [
    "# Data params\n",
    "# Sequence Length\n",
    "sequence_length = 10\n",
    "# Batch Size\n",
    "batch_size = 128\n",
    "\n",
    "# data loader - do not change\n",
    "train_loader = batch_data(int_text, sequence_length, batch_size)"
   ]
  },
  {
   "cell_type": "code",
   "execution_count": 22,
   "metadata": {},
   "outputs": [],
   "source": [
    "# Training parameters\n",
    "# Number of Epochs\n",
    "num_epochs = 10\n",
    "# Learning Rate\n",
    "learning_rate = 0.002\n",
    "\n",
    "# Model parameters\n",
    "# Vocab size\n",
    "vocab_size = len(vocab_to_int)\n",
    "# Output size\n",
    "output_size = vocab_size\n",
    "# Embedding Dimension\n",
    "embedding_dim = 250\n",
    "# Hidden Dimension\n",
    "hidden_dim = 250\n",
    "# Number of RNN Layers\n",
    "n_layers = 2\n",
    "\n",
    "# Show stats for every n number of batches\n",
    "show_every_n_batches = 2000"
   ]
  },
  {
   "cell_type": "markdown",
   "metadata": {},
   "source": [
    "### Train"
   ]
  },
  {
   "cell_type": "code",
   "execution_count": 23,
   "metadata": {},
   "outputs": [
    {
     "name": "stdout",
     "output_type": "stream",
     "text": [
      "RNN(\n",
      "  (Embedding): Embedding(21388, 250)\n",
      "  (LSTM): LSTM(250, 250, num_layers=2, batch_first=True, dropout=0.3)\n",
      "  (fc): Linear(in_features=250, out_features=21388, bias=True)\n",
      ")\n",
      "Training for 10 epoch(s)...\n",
      "Epoch:    1/10    Loss: 4.994991242408752\n",
      "\n",
      "Epoch:    1/10    Loss: 4.39775888299942\n",
      "\n",
      "Epoch:    1/10    Loss: 4.264710321068764\n",
      "\n",
      "Epoch:    2/10    Loss: 4.028546863569404\n",
      "\n",
      "Epoch:    2/10    Loss: 3.8622880607843397\n",
      "\n",
      "Epoch:    2/10    Loss: 3.8316683440208434\n",
      "\n",
      "Epoch:    3/10    Loss: 3.73333630568255\n",
      "\n",
      "Epoch:    3/10    Loss: 3.661201379060745\n",
      "\n",
      "Epoch:    3/10    Loss: 3.625262855529785\n",
      "\n",
      "Epoch:    4/10    Loss: 3.5675259732171853\n",
      "\n",
      "Epoch:    4/10    Loss: 3.5156737643480303\n",
      "\n",
      "Epoch:    4/10    Loss: 3.497494480252266\n",
      "\n",
      "Epoch:    5/10    Loss: 3.4465078550850285\n",
      "\n",
      "Epoch:    5/10    Loss: 3.408505469083786\n",
      "\n",
      "Epoch:    5/10    Loss: 3.396619640469551\n",
      "\n",
      "Epoch:    6/10    Loss: 3.353994098635054\n",
      "\n",
      "Epoch:    6/10    Loss: 3.3346054565906527\n",
      "\n",
      "Epoch:    6/10    Loss: 3.3198043427467345\n",
      "\n",
      "Epoch:    7/10    Loss: 3.2824942917033346\n",
      "\n",
      "Epoch:    7/10    Loss: 3.2625133776664734\n",
      "\n",
      "Epoch:    7/10    Loss: 3.2547319052219392\n",
      "\n",
      "Epoch:    8/10    Loss: 3.2302990342889513\n",
      "\n",
      "Epoch:    8/10    Loss: 3.2113406192064287\n",
      "\n",
      "Epoch:    8/10    Loss: 3.2040516680479048\n",
      "\n",
      "Epoch:    9/10    Loss: 3.1856503557323443\n",
      "\n",
      "Epoch:    9/10    Loss: 3.168149076461792\n",
      "\n",
      "Epoch:    9/10    Loss: 3.1644136695861818\n",
      "\n",
      "Epoch:   10/10    Loss: 3.1505743691702737\n",
      "\n",
      "Epoch:   10/10    Loss: 3.132642995715141\n",
      "\n",
      "Epoch:   10/10    Loss: 3.130118967652321\n",
      "\n"
     ]
    },
    {
     "name": "stderr",
     "output_type": "stream",
     "text": [
      "/opt/conda/lib/python3.6/site-packages/torch/serialization.py:193: UserWarning: Couldn't retrieve source code for container of type RNN. It won't be checked for correctness upon loading.\n",
      "  \"type \" + obj.__name__ + \". It won't be checked \"\n"
     ]
    },
    {
     "name": "stdout",
     "output_type": "stream",
     "text": [
      "Model Trained and Saved\n"
     ]
    }
   ],
   "source": [
    "# create model and move to gpu if available\n",
    "rnn = RNN(vocab_size, output_size, embedding_dim, hidden_dim, n_layers, dropout=0.3)\n",
    "if train_on_gpu:\n",
    "    rnn.cuda()\n",
    "print(rnn)\n",
    "\n",
    "# defining loss and optimization functions for training\n",
    "optimizer = torch.optim.Adam(rnn.parameters(), lr = learning_rate)\n",
    "criterion = nn.CrossEntropyLoss()\n",
    "\n",
    "# training the model\n",
    "trained_rnn = train_rnn(rnn, batch_size, optimizer, criterion, num_epochs, show_every_n_batches)\n",
    "\n",
    "# saving the trained model\n",
    "helper.save_model('./save/trained_rnn', trained_rnn)\n",
    "print('Model Trained and Saved')"
   ]
  },
  {
   "cell_type": "markdown",
   "metadata": {},
   "source": [
    "### Question: How did you decide on your model hyperparameters? \n",
    "For example, did you try different sequence_lengths and find that one size made the model converge faster? What about your hidden_dim and n_layers; how did you decide on those?"
   ]
  },
  {
   "cell_type": "markdown",
   "metadata": {},
   "source": [
    "**Answer:** :  <br>\n",
    "Configuration to achieve a Loss under 3.5: <br>\n",
    "[lr = 0.001, batch_size = 128, dropout=0.5, seq_len=20, epochs=10, embedding_dim & hidden_dim = 250, Loss: 3.17] <br>\n",
    "The loss were with 3.17 ok, but in the generated Scripts where strange mistakes. So I retrained with some modifications: <br>\n",
    "\n",
    "Modify dropout from 0.5 t 0.3, decreace seq_len from 20 to 10, increase lr from 0.001 to 0.002. Those changes lead to a loss from 3.13, whihc is not uch different, but the generated sentences are much better."
   ]
  },
  {
   "cell_type": "markdown",
   "metadata": {},
   "source": [
    "## Checkpoint"
   ]
  },
  {
   "cell_type": "code",
   "execution_count": 6,
   "metadata": {},
   "outputs": [],
   "source": [
    "_, vocab_to_int, int_to_vocab, token_dict = helper.load_preprocess()\n",
    "\n",
    "trained_rnn = torch.load('trained_rnn.pt', map_location='cpu')"
   ]
  },
  {
   "cell_type": "markdown",
   "metadata": {},
   "source": [
    "## Generate Sequences"
   ]
  },
  {
   "cell_type": "code",
   "execution_count": 7,
   "metadata": {},
   "outputs": [],
   "source": [
    "import torch.nn.functional as F\n",
    "\n",
    "def generate(rnn, prime_id, int_to_vocab, token_dict, pad_value, predict_len=100):\n",
    "    \"\"\"\n",
    "    Generate text using the neural network\n",
    "    :param decoder: The PyTorch Module that holds the trained neural network\n",
    "    :param prime_id: The word id to start the first prediction\n",
    "    :param int_to_vocab: Dict of word id keys to word values\n",
    "    :param token_dict: Dict of puncuation tokens keys to puncuation values\n",
    "    :param pad_value: The value used to pad a sequence\n",
    "    :param predict_len: The length of text to generate\n",
    "    :return: The generated text\n",
    "    \"\"\"\n",
    "    rnn.eval()\n",
    "    \n",
    "    # create a sequence (batch_size=1) with the prime_id\n",
    "    current_seq = np.full((1, sequence_length), pad_value)\n",
    "    current_seq[-1][-1] = prime_id\n",
    "    predicted = [int_to_vocab[prime_id]]\n",
    "    \n",
    "    for _ in range(predict_len):\n",
    "        if train_on_gpu:\n",
    "            current_seq = torch.LongTensor(current_seq).cuda()\n",
    "        else:\n",
    "            current_seq = torch.LongTensor(current_seq)\n",
    "        \n",
    "        # initialize the hidden state\n",
    "        hidden = rnn.init_hidden(current_seq.size(0))\n",
    "        \n",
    "        # get the output of the rnn\n",
    "        output, _ = rnn(current_seq, hidden)\n",
    "        \n",
    "        # get the next word probabilities\n",
    "        p = F.softmax(output, dim=1).data\n",
    "        if(train_on_gpu):\n",
    "            p = p.cpu() # move to cpu\n",
    "         \n",
    "        # use top_k sampling to get the index of the next word\n",
    "        top_k = 5\n",
    "        p, top_i = p.topk(top_k)\n",
    "        top_i = top_i.numpy().squeeze()\n",
    "        \n",
    "        # select the likely next word index with some element of randomness\n",
    "        p = p.numpy().squeeze()\n",
    "        word_i = np.random.choice(top_i, p=p/p.sum())\n",
    "        \n",
    "        # retrieve that word from the dictionary\n",
    "        word = int_to_vocab[word_i]\n",
    "        predicted.append(word)     \n",
    "        \n",
    "        # the generated word becomes the next \"current sequence\" and the cycle can continue\n",
    "        current_seq = np.roll(current_seq, -1, 1)\n",
    "        current_seq[-1][-1] = word_i\n",
    "    \n",
    "    gen_sentences = ' '.join(predicted)\n",
    "    \n",
    "    # Replace punctuation tokens\n",
    "    for key, token in token_dict.items():\n",
    "        ending = ' ' if key in ['\\n', '(', '\"'] else ''\n",
    "        gen_sentences = gen_sentences.replace(' ' + token.lower(), key)\n",
    "    gen_sentences = gen_sentences.replace('\\n ', '\\n')\n",
    "    gen_sentences = gen_sentences.replace('( ', '(')\n",
    "    \n",
    "    # return all the sentences\n",
    "    return gen_sentences\n"
   ]
  },
  {
   "cell_type": "code",
   "execution_count": 12,
   "metadata": {},
   "outputs": [
    {
     "name": "stdout",
     "output_type": "stream",
     "text": [
      "jerry: 28 jury, the contest, but i think we were in the mood.\n",
      "\n",
      "george: i think it's a joke.\n",
      "\n",
      "george: what did he say?\n",
      "\n",
      "frank: no, it's a regular flight.\n",
      "\n",
      "[new witness: joe bookman?\n",
      "\n",
      "hoyt: so donald.\n",
      "\n",
      "hoyt: yes, yes, it was.\n",
      "\n",
      "hoyt: no, no, not a joke.\n",
      "\n",
      "hoyt: yes, yes! i forgot the hardest ones who smothered me, and then they were innocentbystanders.\n",
      "\n",
      "hoyt: no, i can't find it.\n",
      "\n",
      "hoyt: yes, sure.\n",
      "\n",
      "jerry: i dont have any quarters.\n",
      "\n",
      "hoyt: what do i think, the jury?\n",
      "\n",
      "jerry: what are you doing?\n",
      "\n",
      "elaine: what?\n",
      "\n",
      "soup nazi: yes!\n",
      "\n",
      "[new witness: elaine's office]\n",
      "\n",
      "[new witness: the most one of the robbery] are walking out the county court.\n",
      "\n",
      "hoyt: so youre not going on the other parking lot of selfishness.\n",
      "\n",
      "hoyt: no, not a lovely boy.\n",
      "\n",
      "vandelay: yes!\n",
      "\n",
      "frank: what are you talking about?\n",
      "\n",
      "george: i had a good trip to the judge.\n",
      "\n",
      "hoyt: so youre in a hurry.\n",
      "\n",
      "hoyt: no, no, no. no.\n",
      "\n",
      "jerry: no, that's not that bright restaurateur.\n",
      "\n",
      "vandelay: objection overruled.\n",
      "\n",
      "[new witness: elaine's bedroom]\n",
      "\n",
      "hoyt: so donald.\n",
      "\n",
      "vandelay: ladies and gentlemen, ladies. donald--\n",
      "\n",
      "hoyt: so you dont see the incident?\n",
      "\n",
      "[new witness: worker: bookman\n",
      "\n",
      "hoyt: so, youre going to be a guilty level.\n",
      "\n",
      "hoyt: what?!?\n",
      "\n",
      "jerry: i forgot to go.\n",
      "\n",
      "elaine: what?\n",
      "\n",
      "frank: what?\n",
      "\n",
      "frank: yes, i think i would like to tell you.\n",
      "\n",
      "jerry: i know.\n",
      "\n",
      "george: i got jackie chiles, but the court was the most impenetrable witnesses is irrelevant and tragic officers, massachusetts.\n",
      "\n",
      "hoyt: you want to be a bystander?\n",
      "\n",
      "jerry:\n"
     ]
    }
   ],
   "source": [
    "# run the cell multiple times to get different results!\n",
    "sequence_length = 10\n",
    "gen_length = 400 # modify the length to your preference\n",
    "prime_word = 'jerry' # name for starting the script\n",
    "\n",
    "\"\"\"\n",
    "DON'T MODIFY ANYTHING IN THIS CELL THAT IS BELOW THIS LINE\n",
    "\"\"\"\n",
    "pad_word = helper.SPECIAL_WORDS['PADDING']\n",
    "generated_script = generate(trained_rnn, vocab_to_int[prime_word + ':'], int_to_vocab, token_dict, vocab_to_int[pad_word], gen_length)\n",
    "print(generated_script)"
   ]
  },
  {
   "cell_type": "code",
   "execution_count": 14,
   "metadata": {},
   "outputs": [],
   "source": [
    "#save generated text as .txt file\n",
    "\n",
    "scriptname = \"seinfield_script_2.txt\"\n",
    "\n",
    "with open(scriptname, \"w\") as file:\n",
    "    file.write(generated_script)"
   ]
  }
 ],
 "metadata": {
  "kernelspec": {
   "display_name": "Python 3",
   "language": "python",
   "name": "python3"
  },
  "language_info": {
   "codemirror_mode": {
    "name": "ipython",
    "version": 3
   },
   "file_extension": ".py",
   "mimetype": "text/x-python",
   "name": "python",
   "nbconvert_exporter": "python",
   "pygments_lexer": "ipython3",
   "version": "3.6.3"
  }
 },
 "nbformat": 4,
 "nbformat_minor": 2
}
